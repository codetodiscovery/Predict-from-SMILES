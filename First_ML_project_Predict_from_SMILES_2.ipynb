{
  "nbformat": 4,
  "nbformat_minor": 0,
  "metadata": {
    "colab": {
      "provenance": []
    },
    "kernelspec": {
      "name": "python3",
      "display_name": "Python 3"
    },
    "language_info": {
      "name": "python"
    }
  },
  "cells": [
    {
      "cell_type": "code",
      "source": [
        "%%capture\n",
        "!pip install mordred\n",
        "!pip install rdkit"
      ],
      "metadata": {
        "id": "lEghOsYLwVM8"
      },
      "execution_count": 1,
      "outputs": []
    },
    {
      "cell_type": "code",
      "source": [
        "# Importing Libraries\n",
        "import rdkit\n",
        "from rdkit import Chem\n",
        "from rdkit.Chem import Draw, PandasTools, AllChem\n",
        "\n",
        "import mordred\n",
        "from mordred import Calculator, descriptors"
      ],
      "metadata": {
        "id": "TMBAVZzmwO9d"
      },
      "execution_count": 2,
      "outputs": []
    },
    {
      "cell_type": "code",
      "source": [
        "import pickle\n",
        "import pandas as pd\n",
        "import warnings\n",
        "warnings.filterwarnings(\"ignore\")"
      ],
      "metadata": {
        "id": "I6NkRIpkwSz8"
      },
      "execution_count": 3,
      "outputs": []
    },
    {
      "cell_type": "code",
      "source": [
        "with open('scaler.pkl','rb') as f:\n",
        "    scaler = pickle.load(f)\n",
        "with open('model_rf', 'rb') as f:\n",
        "    rf = pickle.load(f)\n"
      ],
      "metadata": {
        "id": "BmB-POX3uxLz"
      },
      "execution_count": 4,
      "outputs": []
    },
    {
      "cell_type": "code",
      "source": [
        "def predict_sol_smiles(smiles):\n",
        "  mols = []\n",
        "  for smile in smiles:\n",
        "    mol = Chem.MolFromSmiles(smile)\n",
        "    mol = Chem.AddHs(mol)\n",
        "    AllChem.EmbedMolecule(mol)\n",
        "    mols.append(mol)\n",
        "  df_mol = pd.DataFrame(data = mols, columns=(['mol']), dtype='object')\n",
        "  calc = Calculator(descriptors, ignore_3D=True)\n",
        "  desc = calc.pandas(df_mol['mol'])\n",
        "  desc_8 = desc[['FilterItLogS', 'Lipinski', 'SIC0', 'RNCG', 'RPCG', 'ATS0Z',\n",
        "        'PEOE_VSA6', 'AATS0i']]\n",
        "  X_test = scaler.transform(desc_8)\n",
        "  predict = rf.predict(X_test)\n",
        "  print(f'The Predicted Solubilities is {predict}')"
      ],
      "metadata": {
        "id": "rwSZnj8tvPrN"
      },
      "execution_count": 5,
      "outputs": []
    },
    {
      "cell_type": "code",
      "source": [
        "smiles = ['OCC1=C(O)C=C(O)C=C1', 'NCC1=C(N)C=C(N)C=C1', 'CCC1=C(C)C=C(C)C=C1']\n",
        "predict_sol_smiles(smiles)"
      ],
      "metadata": {
        "id": "AUnLKptQxUde",
        "colab": {
          "base_uri": "https://localhost:8080/"
        },
        "outputId": "fe790a6a-3a34-4ce6-f774-35ce05021017"
      },
      "execution_count": 6,
      "outputs": [
        {
          "output_type": "stream",
          "name": "stderr",
          "text": [
            "100%|██████████| 3/3 [00:00<00:00,  9.76it/s]\n"
          ]
        },
        {
          "output_type": "stream",
          "name": "stdout",
          "text": [
            "The Predicted Solubilities is [-1.22178952 -1.56682183 -4.09530883]\n"
          ]
        }
      ]
    }
  ]
}