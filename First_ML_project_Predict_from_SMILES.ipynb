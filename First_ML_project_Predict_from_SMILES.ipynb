{
  "nbformat": 4,
  "nbformat_minor": 0,
  "metadata": {
    "colab": {
      "provenance": []
    },
    "kernelspec": {
      "name": "python3",
      "display_name": "Python 3"
    },
    "language_info": {
      "name": "python"
    }
  },
  "cells": [
    {
      "cell_type": "code",
      "source": [
        "%%capture\n",
        "!pip install mordred\n",
        "!pip install rdkit"
      ],
      "metadata": {
        "id": "DrgikiXTg1GO"
      },
      "execution_count": 1,
      "outputs": []
    },
    {
      "cell_type": "code",
      "source": [
        "# Importing Libraries\n",
        "import rdkit\n",
        "from rdkit import Chem\n",
        "from rdkit.Chem import Draw, PandasTools, AllChem\n",
        "\n",
        "import mordred\n",
        "from mordred import Calculator, descriptors"
      ],
      "metadata": {
        "id": "mb52rLnag08n"
      },
      "execution_count": 2,
      "outputs": []
    },
    {
      "cell_type": "code",
      "execution_count": 3,
      "metadata": {
        "id": "upW8xp-redXQ"
      },
      "outputs": [],
      "source": [
        "import pandas as pd\n",
        "import numpy as np\n",
        "import warnings\n",
        "warnings.filterwarnings(\"ignore\")"
      ]
    },
    {
      "cell_type": "code",
      "source": [
        "from sklearn.preprocessing import StandardScaler\n",
        "from sklearn.model_selection import train_test_split\n",
        "from sklearn.ensemble import RandomForestRegressor"
      ],
      "metadata": {
        "id": "lHwsOIaxfVze"
      },
      "execution_count": 4,
      "outputs": []
    },
    {
      "cell_type": "code",
      "source": [
        "df_final = pd.read_csv('delaney_8_des.csv')\n",
        "df_final.head()"
      ],
      "metadata": {
        "colab": {
          "base_uri": "https://localhost:8080/",
          "height": 243
        },
        "id": "J5yqObTqfXsl",
        "outputId": "85d2d9fb-5e0a-4f1a-e08a-323b51c41b40"
      },
      "execution_count": 5,
      "outputs": [
        {
          "output_type": "execute_result",
          "data": {
            "text/plain": [
              "   FilterItLogS  Lipinski      SIC0      RNCG      RPCG  ATS0Z  PEOE_VSA6  \\\n",
              "0     -2.790326         1  0.500000  0.330754  0.551252   1230   34.80282   \n",
              "1     -2.129911         1  0.520426  0.311690  0.695189    942   34.80282   \n",
              "2     -2.433986         1  0.500000  0.250000  0.335426   1230    0.00000   \n",
              "3     -2.147371         1  0.520426  0.372917  0.364050    942    0.00000   \n",
              "4     -2.664600         1  0.520426  0.277752  0.533222   1182   23.20188   \n",
              "\n",
              "       AATS0i  measured log(solubility:mol/L)  \n",
              "0  162.007716                           -2.18  \n",
              "1  164.102494                           -2.00  \n",
              "2  162.007716                           -1.74  \n",
              "3  164.102494                           -1.48  \n",
              "4  208.591109                           -3.04  "
            ],
            "text/html": [
              "\n",
              "  <div id=\"df-7c12d746-d7be-462c-a828-073ecea70d87\" class=\"colab-df-container\">\n",
              "    <div>\n",
              "<style scoped>\n",
              "    .dataframe tbody tr th:only-of-type {\n",
              "        vertical-align: middle;\n",
              "    }\n",
              "\n",
              "    .dataframe tbody tr th {\n",
              "        vertical-align: top;\n",
              "    }\n",
              "\n",
              "    .dataframe thead th {\n",
              "        text-align: right;\n",
              "    }\n",
              "</style>\n",
              "<table border=\"1\" class=\"dataframe\">\n",
              "  <thead>\n",
              "    <tr style=\"text-align: right;\">\n",
              "      <th></th>\n",
              "      <th>FilterItLogS</th>\n",
              "      <th>Lipinski</th>\n",
              "      <th>SIC0</th>\n",
              "      <th>RNCG</th>\n",
              "      <th>RPCG</th>\n",
              "      <th>ATS0Z</th>\n",
              "      <th>PEOE_VSA6</th>\n",
              "      <th>AATS0i</th>\n",
              "      <th>measured log(solubility:mol/L)</th>\n",
              "    </tr>\n",
              "  </thead>\n",
              "  <tbody>\n",
              "    <tr>\n",
              "      <th>0</th>\n",
              "      <td>-2.790326</td>\n",
              "      <td>1</td>\n",
              "      <td>0.500000</td>\n",
              "      <td>0.330754</td>\n",
              "      <td>0.551252</td>\n",
              "      <td>1230</td>\n",
              "      <td>34.80282</td>\n",
              "      <td>162.007716</td>\n",
              "      <td>-2.18</td>\n",
              "    </tr>\n",
              "    <tr>\n",
              "      <th>1</th>\n",
              "      <td>-2.129911</td>\n",
              "      <td>1</td>\n",
              "      <td>0.520426</td>\n",
              "      <td>0.311690</td>\n",
              "      <td>0.695189</td>\n",
              "      <td>942</td>\n",
              "      <td>34.80282</td>\n",
              "      <td>164.102494</td>\n",
              "      <td>-2.00</td>\n",
              "    </tr>\n",
              "    <tr>\n",
              "      <th>2</th>\n",
              "      <td>-2.433986</td>\n",
              "      <td>1</td>\n",
              "      <td>0.500000</td>\n",
              "      <td>0.250000</td>\n",
              "      <td>0.335426</td>\n",
              "      <td>1230</td>\n",
              "      <td>0.00000</td>\n",
              "      <td>162.007716</td>\n",
              "      <td>-1.74</td>\n",
              "    </tr>\n",
              "    <tr>\n",
              "      <th>3</th>\n",
              "      <td>-2.147371</td>\n",
              "      <td>1</td>\n",
              "      <td>0.520426</td>\n",
              "      <td>0.372917</td>\n",
              "      <td>0.364050</td>\n",
              "      <td>942</td>\n",
              "      <td>0.00000</td>\n",
              "      <td>164.102494</td>\n",
              "      <td>-1.48</td>\n",
              "    </tr>\n",
              "    <tr>\n",
              "      <th>4</th>\n",
              "      <td>-2.664600</td>\n",
              "      <td>1</td>\n",
              "      <td>0.520426</td>\n",
              "      <td>0.277752</td>\n",
              "      <td>0.533222</td>\n",
              "      <td>1182</td>\n",
              "      <td>23.20188</td>\n",
              "      <td>208.591109</td>\n",
              "      <td>-3.04</td>\n",
              "    </tr>\n",
              "  </tbody>\n",
              "</table>\n",
              "</div>\n",
              "    <div class=\"colab-df-buttons\">\n",
              "\n",
              "  <div class=\"colab-df-container\">\n",
              "    <button class=\"colab-df-convert\" onclick=\"convertToInteractive('df-7c12d746-d7be-462c-a828-073ecea70d87')\"\n",
              "            title=\"Convert this dataframe to an interactive table.\"\n",
              "            style=\"display:none;\">\n",
              "\n",
              "  <svg xmlns=\"http://www.w3.org/2000/svg\" height=\"24px\" viewBox=\"0 -960 960 960\">\n",
              "    <path d=\"M120-120v-720h720v720H120Zm60-500h600v-160H180v160Zm220 220h160v-160H400v160Zm0 220h160v-160H400v160ZM180-400h160v-160H180v160Zm440 0h160v-160H620v160ZM180-180h160v-160H180v160Zm440 0h160v-160H620v160Z\"/>\n",
              "  </svg>\n",
              "    </button>\n",
              "\n",
              "  <style>\n",
              "    .colab-df-container {\n",
              "      display:flex;\n",
              "      gap: 12px;\n",
              "    }\n",
              "\n",
              "    .colab-df-convert {\n",
              "      background-color: #E8F0FE;\n",
              "      border: none;\n",
              "      border-radius: 50%;\n",
              "      cursor: pointer;\n",
              "      display: none;\n",
              "      fill: #1967D2;\n",
              "      height: 32px;\n",
              "      padding: 0 0 0 0;\n",
              "      width: 32px;\n",
              "    }\n",
              "\n",
              "    .colab-df-convert:hover {\n",
              "      background-color: #E2EBFA;\n",
              "      box-shadow: 0px 1px 2px rgba(60, 64, 67, 0.3), 0px 1px 3px 1px rgba(60, 64, 67, 0.15);\n",
              "      fill: #174EA6;\n",
              "    }\n",
              "\n",
              "    .colab-df-buttons div {\n",
              "      margin-bottom: 4px;\n",
              "    }\n",
              "\n",
              "    [theme=dark] .colab-df-convert {\n",
              "      background-color: #3B4455;\n",
              "      fill: #D2E3FC;\n",
              "    }\n",
              "\n",
              "    [theme=dark] .colab-df-convert:hover {\n",
              "      background-color: #434B5C;\n",
              "      box-shadow: 0px 1px 3px 1px rgba(0, 0, 0, 0.15);\n",
              "      filter: drop-shadow(0px 1px 2px rgba(0, 0, 0, 0.3));\n",
              "      fill: #FFFFFF;\n",
              "    }\n",
              "  </style>\n",
              "\n",
              "    <script>\n",
              "      const buttonEl =\n",
              "        document.querySelector('#df-7c12d746-d7be-462c-a828-073ecea70d87 button.colab-df-convert');\n",
              "      buttonEl.style.display =\n",
              "        google.colab.kernel.accessAllowed ? 'block' : 'none';\n",
              "\n",
              "      async function convertToInteractive(key) {\n",
              "        const element = document.querySelector('#df-7c12d746-d7be-462c-a828-073ecea70d87');\n",
              "        const dataTable =\n",
              "          await google.colab.kernel.invokeFunction('convertToInteractive',\n",
              "                                                    [key], {});\n",
              "        if (!dataTable) return;\n",
              "\n",
              "        const docLinkHtml = 'Like what you see? Visit the ' +\n",
              "          '<a target=\"_blank\" href=https://colab.research.google.com/notebooks/data_table.ipynb>data table notebook</a>'\n",
              "          + ' to learn more about interactive tables.';\n",
              "        element.innerHTML = '';\n",
              "        dataTable['output_type'] = 'display_data';\n",
              "        await google.colab.output.renderOutput(dataTable, element);\n",
              "        const docLink = document.createElement('div');\n",
              "        docLink.innerHTML = docLinkHtml;\n",
              "        element.appendChild(docLink);\n",
              "      }\n",
              "    </script>\n",
              "  </div>\n",
              "\n",
              "\n",
              "<div id=\"df-d2f460e0-14b7-4d8d-8ab1-f57ccc1147bb\">\n",
              "  <button class=\"colab-df-quickchart\" onclick=\"quickchart('df-d2f460e0-14b7-4d8d-8ab1-f57ccc1147bb')\"\n",
              "            title=\"Suggest charts\"\n",
              "            style=\"display:none;\">\n",
              "\n",
              "<svg xmlns=\"http://www.w3.org/2000/svg\" height=\"24px\"viewBox=\"0 0 24 24\"\n",
              "     width=\"24px\">\n",
              "    <g>\n",
              "        <path d=\"M19 3H5c-1.1 0-2 .9-2 2v14c0 1.1.9 2 2 2h14c1.1 0 2-.9 2-2V5c0-1.1-.9-2-2-2zM9 17H7v-7h2v7zm4 0h-2V7h2v10zm4 0h-2v-4h2v4z\"/>\n",
              "    </g>\n",
              "</svg>\n",
              "  </button>\n",
              "\n",
              "<style>\n",
              "  .colab-df-quickchart {\n",
              "      --bg-color: #E8F0FE;\n",
              "      --fill-color: #1967D2;\n",
              "      --hover-bg-color: #E2EBFA;\n",
              "      --hover-fill-color: #174EA6;\n",
              "      --disabled-fill-color: #AAA;\n",
              "      --disabled-bg-color: #DDD;\n",
              "  }\n",
              "\n",
              "  [theme=dark] .colab-df-quickchart {\n",
              "      --bg-color: #3B4455;\n",
              "      --fill-color: #D2E3FC;\n",
              "      --hover-bg-color: #434B5C;\n",
              "      --hover-fill-color: #FFFFFF;\n",
              "      --disabled-bg-color: #3B4455;\n",
              "      --disabled-fill-color: #666;\n",
              "  }\n",
              "\n",
              "  .colab-df-quickchart {\n",
              "    background-color: var(--bg-color);\n",
              "    border: none;\n",
              "    border-radius: 50%;\n",
              "    cursor: pointer;\n",
              "    display: none;\n",
              "    fill: var(--fill-color);\n",
              "    height: 32px;\n",
              "    padding: 0;\n",
              "    width: 32px;\n",
              "  }\n",
              "\n",
              "  .colab-df-quickchart:hover {\n",
              "    background-color: var(--hover-bg-color);\n",
              "    box-shadow: 0 1px 2px rgba(60, 64, 67, 0.3), 0 1px 3px 1px rgba(60, 64, 67, 0.15);\n",
              "    fill: var(--button-hover-fill-color);\n",
              "  }\n",
              "\n",
              "  .colab-df-quickchart-complete:disabled,\n",
              "  .colab-df-quickchart-complete:disabled:hover {\n",
              "    background-color: var(--disabled-bg-color);\n",
              "    fill: var(--disabled-fill-color);\n",
              "    box-shadow: none;\n",
              "  }\n",
              "\n",
              "  .colab-df-spinner {\n",
              "    border: 2px solid var(--fill-color);\n",
              "    border-color: transparent;\n",
              "    border-bottom-color: var(--fill-color);\n",
              "    animation:\n",
              "      spin 1s steps(1) infinite;\n",
              "  }\n",
              "\n",
              "  @keyframes spin {\n",
              "    0% {\n",
              "      border-color: transparent;\n",
              "      border-bottom-color: var(--fill-color);\n",
              "      border-left-color: var(--fill-color);\n",
              "    }\n",
              "    20% {\n",
              "      border-color: transparent;\n",
              "      border-left-color: var(--fill-color);\n",
              "      border-top-color: var(--fill-color);\n",
              "    }\n",
              "    30% {\n",
              "      border-color: transparent;\n",
              "      border-left-color: var(--fill-color);\n",
              "      border-top-color: var(--fill-color);\n",
              "      border-right-color: var(--fill-color);\n",
              "    }\n",
              "    40% {\n",
              "      border-color: transparent;\n",
              "      border-right-color: var(--fill-color);\n",
              "      border-top-color: var(--fill-color);\n",
              "    }\n",
              "    60% {\n",
              "      border-color: transparent;\n",
              "      border-right-color: var(--fill-color);\n",
              "    }\n",
              "    80% {\n",
              "      border-color: transparent;\n",
              "      border-right-color: var(--fill-color);\n",
              "      border-bottom-color: var(--fill-color);\n",
              "    }\n",
              "    90% {\n",
              "      border-color: transparent;\n",
              "      border-bottom-color: var(--fill-color);\n",
              "    }\n",
              "  }\n",
              "</style>\n",
              "\n",
              "  <script>\n",
              "    async function quickchart(key) {\n",
              "      const quickchartButtonEl =\n",
              "        document.querySelector('#' + key + ' button');\n",
              "      quickchartButtonEl.disabled = true;  // To prevent multiple clicks.\n",
              "      quickchartButtonEl.classList.add('colab-df-spinner');\n",
              "      try {\n",
              "        const charts = await google.colab.kernel.invokeFunction(\n",
              "            'suggestCharts', [key], {});\n",
              "      } catch (error) {\n",
              "        console.error('Error during call to suggestCharts:', error);\n",
              "      }\n",
              "      quickchartButtonEl.classList.remove('colab-df-spinner');\n",
              "      quickchartButtonEl.classList.add('colab-df-quickchart-complete');\n",
              "    }\n",
              "    (() => {\n",
              "      let quickchartButtonEl =\n",
              "        document.querySelector('#df-d2f460e0-14b7-4d8d-8ab1-f57ccc1147bb button');\n",
              "      quickchartButtonEl.style.display =\n",
              "        google.colab.kernel.accessAllowed ? 'block' : 'none';\n",
              "    })();\n",
              "  </script>\n",
              "</div>\n",
              "\n",
              "    </div>\n",
              "  </div>\n"
            ],
            "application/vnd.google.colaboratory.intrinsic+json": {
              "type": "dataframe",
              "variable_name": "df_final",
              "summary": "{\n  \"name\": \"df_final\",\n  \"rows\": 1144,\n  \"fields\": [\n    {\n      \"column\": \"FilterItLogS\",\n      \"properties\": {\n        \"dtype\": \"number\",\n        \"std\": 1.862740243971637,\n        \"min\": -10.89774454912772,\n        \"max\": 5.427883993444006,\n        \"num_unique_values\": 927,\n        \"samples\": [\n          -0.83575707163951,\n          -3.744125765906769,\n          -2.292692588440671\n        ],\n        \"semantic_type\": \"\",\n        \"description\": \"\"\n      }\n    },\n    {\n      \"column\": \"Lipinski\",\n      \"properties\": {\n        \"dtype\": \"number\",\n        \"std\": 0,\n        \"min\": 0,\n        \"max\": 1,\n        \"num_unique_values\": 2,\n        \"samples\": [\n          0,\n          1\n        ],\n        \"semantic_type\": \"\",\n        \"description\": \"\"\n      }\n    },\n    {\n      \"column\": \"SIC0\",\n      \"properties\": {\n        \"dtype\": \"number\",\n        \"std\": 0.09760448805225223,\n        \"min\": 0.1439016877251235,\n        \"max\": 0.8277293767706428,\n        \"num_unique_values\": 628,\n        \"samples\": [\n          0.3601810917310314,\n          0.4609163760739201\n        ],\n        \"semantic_type\": \"\",\n        \"description\": \"\"\n      }\n    },\n    {\n      \"column\": \"RNCG\",\n      \"properties\": {\n        \"dtype\": \"number\",\n        \"std\": 0.18353282456182465,\n        \"min\": 0.0461614384517711,\n        \"max\": 1.0,\n        \"num_unique_values\": 1093,\n        \"samples\": [\n          0.4248407348947754,\n          0.6768610986477239\n        ],\n        \"semantic_type\": \"\",\n        \"description\": \"\"\n      }\n    },\n    {\n      \"column\": \"RPCG\",\n      \"properties\": {\n        \"dtype\": \"number\",\n        \"std\": 0.10695230888340668,\n        \"min\": 0.0188176100405494,\n        \"max\": 1.0,\n        \"num_unique_values\": 1107,\n        \"samples\": [\n          0.2020721953769532,\n          0.5301762868075524\n        ],\n        \"semantic_type\": \"\",\n        \"description\": \"\"\n      }\n    },\n    {\n      \"column\": \"ATS0Z\",\n      \"properties\": {\n        \"dtype\": \"number\",\n        \"std\": 696,\n        \"min\": 40,\n        \"max\": 5986,\n        \"num_unique_values\": 536,\n        \"samples\": [\n          426,\n          662\n        ],\n        \"semantic_type\": \"\",\n        \"description\": \"\"\n      }\n    },\n    {\n      \"column\": \"PEOE_VSA6\",\n      \"properties\": {\n        \"dtype\": \"number\",\n        \"std\": 21.59145467675705,\n        \"min\": 0.0,\n        \"max\": 167.9471933496056,\n        \"num_unique_values\": 284,\n        \"samples\": [\n          15.92994389794935,\n          27.53088378818186\n        ],\n        \"semantic_type\": \"\",\n        \"description\": \"\"\n      }\n    },\n    {\n      \"column\": \"AATS0i\",\n      \"properties\": {\n        \"dtype\": \"number\",\n        \"std\": 7.150367204366573,\n        \"min\": 137.01156757,\n        \"max\": 225.515425896725,\n        \"num_unique_values\": 708,\n        \"samples\": [\n          166.3395426764193,\n          168.1763219191843\n        ],\n        \"semantic_type\": \"\",\n        \"description\": \"\"\n      }\n    },\n    {\n      \"column\": \"measured log(solubility:mol/L)\",\n      \"properties\": {\n        \"dtype\": \"number\",\n        \"std\": 2.0965019290656026,\n        \"min\": -11.6,\n        \"max\": 1.58,\n        \"num_unique_values\": 743,\n        \"samples\": [\n          -1.7,\n          -6.62\n        ],\n        \"semantic_type\": \"\",\n        \"description\": \"\"\n      }\n    }\n  ]\n}"
            }
          },
          "metadata": {},
          "execution_count": 5
        }
      ]
    },
    {
      "cell_type": "code",
      "source": [
        "y = df_final['measured log(solubility:mol/L)']\n",
        "scaler = StandardScaler()\n",
        "X = pd.DataFrame(scaler.fit_transform(df_final.iloc[:, :-1]), columns = df_final.iloc[:, :-1].columns)"
      ],
      "metadata": {
        "id": "15Un4RJCfhob"
      },
      "execution_count": 6,
      "outputs": []
    },
    {
      "cell_type": "code",
      "source": [
        "X.head()"
      ],
      "metadata": {
        "colab": {
          "base_uri": "https://localhost:8080/",
          "height": 226
        },
        "id": "IG0oXbanf5M-",
        "outputId": "0770c7fc-1120-4760-c93d-f15e05289d56"
      },
      "execution_count": 7,
      "outputs": [
        {
          "output_type": "execute_result",
          "data": {
            "text/plain": [
              "   FilterItLogS  Lipinski      SIC0      RNCG      RPCG     ATS0Z  PEOE_VSA6  \\\n",
              "0      0.021772  0.332685  1.784579  0.033750  3.187876  0.534794   0.443669   \n",
              "1      0.376467  0.332685  1.993944 -0.070165  4.534268  0.121242   0.443669   \n",
              "2      0.213155  0.332685  1.784579 -0.406439  1.169029  0.534794  -1.168915   \n",
              "3      0.367089  0.332685  1.993944  0.263581  1.436776  0.121242  -1.168915   \n",
              "4      0.089296  0.332685  1.993944 -0.255165  3.019216  0.465869  -0.093859   \n",
              "\n",
              "     AATS0i  \n",
              "0 -0.077580  \n",
              "1  0.215509  \n",
              "2 -0.077580  \n",
              "3  0.215509  \n",
              "4  6.440094  "
            ],
            "text/html": [
              "\n",
              "  <div id=\"df-f3666746-2b78-40d0-9c04-86b3ba1368e4\" class=\"colab-df-container\">\n",
              "    <div>\n",
              "<style scoped>\n",
              "    .dataframe tbody tr th:only-of-type {\n",
              "        vertical-align: middle;\n",
              "    }\n",
              "\n",
              "    .dataframe tbody tr th {\n",
              "        vertical-align: top;\n",
              "    }\n",
              "\n",
              "    .dataframe thead th {\n",
              "        text-align: right;\n",
              "    }\n",
              "</style>\n",
              "<table border=\"1\" class=\"dataframe\">\n",
              "  <thead>\n",
              "    <tr style=\"text-align: right;\">\n",
              "      <th></th>\n",
              "      <th>FilterItLogS</th>\n",
              "      <th>Lipinski</th>\n",
              "      <th>SIC0</th>\n",
              "      <th>RNCG</th>\n",
              "      <th>RPCG</th>\n",
              "      <th>ATS0Z</th>\n",
              "      <th>PEOE_VSA6</th>\n",
              "      <th>AATS0i</th>\n",
              "    </tr>\n",
              "  </thead>\n",
              "  <tbody>\n",
              "    <tr>\n",
              "      <th>0</th>\n",
              "      <td>0.021772</td>\n",
              "      <td>0.332685</td>\n",
              "      <td>1.784579</td>\n",
              "      <td>0.033750</td>\n",
              "      <td>3.187876</td>\n",
              "      <td>0.534794</td>\n",
              "      <td>0.443669</td>\n",
              "      <td>-0.077580</td>\n",
              "    </tr>\n",
              "    <tr>\n",
              "      <th>1</th>\n",
              "      <td>0.376467</td>\n",
              "      <td>0.332685</td>\n",
              "      <td>1.993944</td>\n",
              "      <td>-0.070165</td>\n",
              "      <td>4.534268</td>\n",
              "      <td>0.121242</td>\n",
              "      <td>0.443669</td>\n",
              "      <td>0.215509</td>\n",
              "    </tr>\n",
              "    <tr>\n",
              "      <th>2</th>\n",
              "      <td>0.213155</td>\n",
              "      <td>0.332685</td>\n",
              "      <td>1.784579</td>\n",
              "      <td>-0.406439</td>\n",
              "      <td>1.169029</td>\n",
              "      <td>0.534794</td>\n",
              "      <td>-1.168915</td>\n",
              "      <td>-0.077580</td>\n",
              "    </tr>\n",
              "    <tr>\n",
              "      <th>3</th>\n",
              "      <td>0.367089</td>\n",
              "      <td>0.332685</td>\n",
              "      <td>1.993944</td>\n",
              "      <td>0.263581</td>\n",
              "      <td>1.436776</td>\n",
              "      <td>0.121242</td>\n",
              "      <td>-1.168915</td>\n",
              "      <td>0.215509</td>\n",
              "    </tr>\n",
              "    <tr>\n",
              "      <th>4</th>\n",
              "      <td>0.089296</td>\n",
              "      <td>0.332685</td>\n",
              "      <td>1.993944</td>\n",
              "      <td>-0.255165</td>\n",
              "      <td>3.019216</td>\n",
              "      <td>0.465869</td>\n",
              "      <td>-0.093859</td>\n",
              "      <td>6.440094</td>\n",
              "    </tr>\n",
              "  </tbody>\n",
              "</table>\n",
              "</div>\n",
              "    <div class=\"colab-df-buttons\">\n",
              "\n",
              "  <div class=\"colab-df-container\">\n",
              "    <button class=\"colab-df-convert\" onclick=\"convertToInteractive('df-f3666746-2b78-40d0-9c04-86b3ba1368e4')\"\n",
              "            title=\"Convert this dataframe to an interactive table.\"\n",
              "            style=\"display:none;\">\n",
              "\n",
              "  <svg xmlns=\"http://www.w3.org/2000/svg\" height=\"24px\" viewBox=\"0 -960 960 960\">\n",
              "    <path d=\"M120-120v-720h720v720H120Zm60-500h600v-160H180v160Zm220 220h160v-160H400v160Zm0 220h160v-160H400v160ZM180-400h160v-160H180v160Zm440 0h160v-160H620v160ZM180-180h160v-160H180v160Zm440 0h160v-160H620v160Z\"/>\n",
              "  </svg>\n",
              "    </button>\n",
              "\n",
              "  <style>\n",
              "    .colab-df-container {\n",
              "      display:flex;\n",
              "      gap: 12px;\n",
              "    }\n",
              "\n",
              "    .colab-df-convert {\n",
              "      background-color: #E8F0FE;\n",
              "      border: none;\n",
              "      border-radius: 50%;\n",
              "      cursor: pointer;\n",
              "      display: none;\n",
              "      fill: #1967D2;\n",
              "      height: 32px;\n",
              "      padding: 0 0 0 0;\n",
              "      width: 32px;\n",
              "    }\n",
              "\n",
              "    .colab-df-convert:hover {\n",
              "      background-color: #E2EBFA;\n",
              "      box-shadow: 0px 1px 2px rgba(60, 64, 67, 0.3), 0px 1px 3px 1px rgba(60, 64, 67, 0.15);\n",
              "      fill: #174EA6;\n",
              "    }\n",
              "\n",
              "    .colab-df-buttons div {\n",
              "      margin-bottom: 4px;\n",
              "    }\n",
              "\n",
              "    [theme=dark] .colab-df-convert {\n",
              "      background-color: #3B4455;\n",
              "      fill: #D2E3FC;\n",
              "    }\n",
              "\n",
              "    [theme=dark] .colab-df-convert:hover {\n",
              "      background-color: #434B5C;\n",
              "      box-shadow: 0px 1px 3px 1px rgba(0, 0, 0, 0.15);\n",
              "      filter: drop-shadow(0px 1px 2px rgba(0, 0, 0, 0.3));\n",
              "      fill: #FFFFFF;\n",
              "    }\n",
              "  </style>\n",
              "\n",
              "    <script>\n",
              "      const buttonEl =\n",
              "        document.querySelector('#df-f3666746-2b78-40d0-9c04-86b3ba1368e4 button.colab-df-convert');\n",
              "      buttonEl.style.display =\n",
              "        google.colab.kernel.accessAllowed ? 'block' : 'none';\n",
              "\n",
              "      async function convertToInteractive(key) {\n",
              "        const element = document.querySelector('#df-f3666746-2b78-40d0-9c04-86b3ba1368e4');\n",
              "        const dataTable =\n",
              "          await google.colab.kernel.invokeFunction('convertToInteractive',\n",
              "                                                    [key], {});\n",
              "        if (!dataTable) return;\n",
              "\n",
              "        const docLinkHtml = 'Like what you see? Visit the ' +\n",
              "          '<a target=\"_blank\" href=https://colab.research.google.com/notebooks/data_table.ipynb>data table notebook</a>'\n",
              "          + ' to learn more about interactive tables.';\n",
              "        element.innerHTML = '';\n",
              "        dataTable['output_type'] = 'display_data';\n",
              "        await google.colab.output.renderOutput(dataTable, element);\n",
              "        const docLink = document.createElement('div');\n",
              "        docLink.innerHTML = docLinkHtml;\n",
              "        element.appendChild(docLink);\n",
              "      }\n",
              "    </script>\n",
              "  </div>\n",
              "\n",
              "\n",
              "<div id=\"df-04fd1e44-2a68-4de1-b929-d36a6a81b8fa\">\n",
              "  <button class=\"colab-df-quickchart\" onclick=\"quickchart('df-04fd1e44-2a68-4de1-b929-d36a6a81b8fa')\"\n",
              "            title=\"Suggest charts\"\n",
              "            style=\"display:none;\">\n",
              "\n",
              "<svg xmlns=\"http://www.w3.org/2000/svg\" height=\"24px\"viewBox=\"0 0 24 24\"\n",
              "     width=\"24px\">\n",
              "    <g>\n",
              "        <path d=\"M19 3H5c-1.1 0-2 .9-2 2v14c0 1.1.9 2 2 2h14c1.1 0 2-.9 2-2V5c0-1.1-.9-2-2-2zM9 17H7v-7h2v7zm4 0h-2V7h2v10zm4 0h-2v-4h2v4z\"/>\n",
              "    </g>\n",
              "</svg>\n",
              "  </button>\n",
              "\n",
              "<style>\n",
              "  .colab-df-quickchart {\n",
              "      --bg-color: #E8F0FE;\n",
              "      --fill-color: #1967D2;\n",
              "      --hover-bg-color: #E2EBFA;\n",
              "      --hover-fill-color: #174EA6;\n",
              "      --disabled-fill-color: #AAA;\n",
              "      --disabled-bg-color: #DDD;\n",
              "  }\n",
              "\n",
              "  [theme=dark] .colab-df-quickchart {\n",
              "      --bg-color: #3B4455;\n",
              "      --fill-color: #D2E3FC;\n",
              "      --hover-bg-color: #434B5C;\n",
              "      --hover-fill-color: #FFFFFF;\n",
              "      --disabled-bg-color: #3B4455;\n",
              "      --disabled-fill-color: #666;\n",
              "  }\n",
              "\n",
              "  .colab-df-quickchart {\n",
              "    background-color: var(--bg-color);\n",
              "    border: none;\n",
              "    border-radius: 50%;\n",
              "    cursor: pointer;\n",
              "    display: none;\n",
              "    fill: var(--fill-color);\n",
              "    height: 32px;\n",
              "    padding: 0;\n",
              "    width: 32px;\n",
              "  }\n",
              "\n",
              "  .colab-df-quickchart:hover {\n",
              "    background-color: var(--hover-bg-color);\n",
              "    box-shadow: 0 1px 2px rgba(60, 64, 67, 0.3), 0 1px 3px 1px rgba(60, 64, 67, 0.15);\n",
              "    fill: var(--button-hover-fill-color);\n",
              "  }\n",
              "\n",
              "  .colab-df-quickchart-complete:disabled,\n",
              "  .colab-df-quickchart-complete:disabled:hover {\n",
              "    background-color: var(--disabled-bg-color);\n",
              "    fill: var(--disabled-fill-color);\n",
              "    box-shadow: none;\n",
              "  }\n",
              "\n",
              "  .colab-df-spinner {\n",
              "    border: 2px solid var(--fill-color);\n",
              "    border-color: transparent;\n",
              "    border-bottom-color: var(--fill-color);\n",
              "    animation:\n",
              "      spin 1s steps(1) infinite;\n",
              "  }\n",
              "\n",
              "  @keyframes spin {\n",
              "    0% {\n",
              "      border-color: transparent;\n",
              "      border-bottom-color: var(--fill-color);\n",
              "      border-left-color: var(--fill-color);\n",
              "    }\n",
              "    20% {\n",
              "      border-color: transparent;\n",
              "      border-left-color: var(--fill-color);\n",
              "      border-top-color: var(--fill-color);\n",
              "    }\n",
              "    30% {\n",
              "      border-color: transparent;\n",
              "      border-left-color: var(--fill-color);\n",
              "      border-top-color: var(--fill-color);\n",
              "      border-right-color: var(--fill-color);\n",
              "    }\n",
              "    40% {\n",
              "      border-color: transparent;\n",
              "      border-right-color: var(--fill-color);\n",
              "      border-top-color: var(--fill-color);\n",
              "    }\n",
              "    60% {\n",
              "      border-color: transparent;\n",
              "      border-right-color: var(--fill-color);\n",
              "    }\n",
              "    80% {\n",
              "      border-color: transparent;\n",
              "      border-right-color: var(--fill-color);\n",
              "      border-bottom-color: var(--fill-color);\n",
              "    }\n",
              "    90% {\n",
              "      border-color: transparent;\n",
              "      border-bottom-color: var(--fill-color);\n",
              "    }\n",
              "  }\n",
              "</style>\n",
              "\n",
              "  <script>\n",
              "    async function quickchart(key) {\n",
              "      const quickchartButtonEl =\n",
              "        document.querySelector('#' + key + ' button');\n",
              "      quickchartButtonEl.disabled = true;  // To prevent multiple clicks.\n",
              "      quickchartButtonEl.classList.add('colab-df-spinner');\n",
              "      try {\n",
              "        const charts = await google.colab.kernel.invokeFunction(\n",
              "            'suggestCharts', [key], {});\n",
              "      } catch (error) {\n",
              "        console.error('Error during call to suggestCharts:', error);\n",
              "      }\n",
              "      quickchartButtonEl.classList.remove('colab-df-spinner');\n",
              "      quickchartButtonEl.classList.add('colab-df-quickchart-complete');\n",
              "    }\n",
              "    (() => {\n",
              "      let quickchartButtonEl =\n",
              "        document.querySelector('#df-04fd1e44-2a68-4de1-b929-d36a6a81b8fa button');\n",
              "      quickchartButtonEl.style.display =\n",
              "        google.colab.kernel.accessAllowed ? 'block' : 'none';\n",
              "    })();\n",
              "  </script>\n",
              "</div>\n",
              "\n",
              "    </div>\n",
              "  </div>\n"
            ],
            "application/vnd.google.colaboratory.intrinsic+json": {
              "type": "dataframe",
              "variable_name": "X",
              "summary": "{\n  \"name\": \"X\",\n  \"rows\": 1144,\n  \"fields\": [\n    {\n      \"column\": \"FilterItLogS\",\n      \"properties\": {\n        \"dtype\": \"number\",\n        \"std\": 1.000437349681963,\n        \"min\": -4.3325465294163115,\n        \"max\": 4.435594172906623,\n        \"num_unique_values\": 927,\n        \"samples\": [\n          1.0715285245742439,\n          -0.49049316782605795,\n          0.2890400848665612\n        ],\n        \"semantic_type\": \"\",\n        \"description\": \"\"\n      }\n    },\n    {\n      \"column\": \"Lipinski\",\n      \"properties\": {\n        \"dtype\": \"number\",\n        \"std\": 1.000437349681963,\n        \"min\": -3.005842264540547,\n        \"max\": 0.33268545452196363,\n        \"num_unique_values\": 2,\n        \"samples\": [\n          -3.005842264540547,\n          0.33268545452196363\n        ],\n        \"semantic_type\": \"\",\n        \"description\": \"\"\n      }\n    },\n    {\n      \"column\": \"SIC0\",\n      \"properties\": {\n        \"dtype\": \"number\",\n        \"std\": 1.000437349681963,\n        \"min\": -1.865397347507295,\n        \"max\": 5.14377584237303,\n        \"num_unique_values\": 628,\n        \"samples\": [\n          0.3514473699060063,\n          1.383975104014981\n        ],\n        \"semantic_type\": \"\",\n        \"description\": \"\"\n      }\n    },\n    {\n      \"column\": \"RNCG\",\n      \"properties\": {\n        \"dtype\": \"number\",\n        \"std\": 1.000437349681963,\n        \"min\": -1.5175631211241847,\n        \"max\": 3.681810477674849,\n        \"num_unique_values\": 1093,\n        \"samples\": [\n          0.5466175649048277,\n          1.9203804619824107\n        ],\n        \"semantic_type\": \"\",\n        \"description\": \"\"\n      }\n    },\n    {\n      \"column\": \"RPCG\",\n      \"properties\": {\n        \"dtype\": \"number\",\n        \"std\": 1.000437349681963,\n        \"min\": -1.7925443349060874,\n        \"max\": 7.385485761066351,\n        \"num_unique_values\": 1107,\n        \"samples\": [\n          -0.07837160142279272,\n          2.990730796436368\n        ],\n        \"semantic_type\": \"\",\n        \"description\": \"\"\n      }\n    },\n    {\n      \"column\": \"ATS0Z\",\n      \"properties\": {\n        \"dtype\": \"number\",\n        \"std\": 1.0004373496819627,\n        \"min\": -1.1739800024768503,\n        \"max\": 7.364145840430733,\n        \"num_unique_values\": 536,\n        \"samples\": [\n          -0.619705435480159,\n          -0.2808225395961715\n        ],\n        \"semantic_type\": \"\",\n        \"description\": \"\"\n      }\n    },\n    {\n      \"column\": \"PEOE_VSA6\",\n      \"properties\": {\n        \"dtype\": \"number\",\n        \"std\": 1.000437349681963,\n        \"min\": -1.1689149276020652,\n        \"max\": 6.612897253032336,\n        \"num_unique_values\": 284,\n        \"samples\": [\n          -0.4308029711620619,\n          0.10672512647453282\n        ],\n        \"semantic_type\": \"\",\n        \"description\": \"\"\n      }\n    },\n    {\n      \"column\": \"AATS0i\",\n      \"properties\": {\n        \"dtype\": \"number\",\n        \"std\": 1.000437349681963,\n        \"min\": -3.5748946082071447,\n        \"max\": 8.808045026969307,\n        \"num_unique_values\": 708,\n        \"samples\": [\n          0.5285032800980778,\n          0.7854946352358201\n        ],\n        \"semantic_type\": \"\",\n        \"description\": \"\"\n      }\n    }\n  ]\n}"
            }
          },
          "metadata": {},
          "execution_count": 7
        }
      ]
    },
    {
      "cell_type": "code",
      "source": [
        "y"
      ],
      "metadata": {
        "colab": {
          "base_uri": "https://localhost:8080/"
        },
        "id": "Z7qDu_jN2FXA",
        "outputId": "ccbb1860-4062-4654-c3d7-210c0316fe58"
      },
      "execution_count": 8,
      "outputs": [
        {
          "output_type": "execute_result",
          "data": {
            "text/plain": [
              "0      -2.180\n",
              "1      -2.000\n",
              "2      -1.740\n",
              "3      -1.480\n",
              "4      -3.040\n",
              "        ...  \n",
              "1139    1.144\n",
              "1140   -4.925\n",
              "1141   -3.893\n",
              "1142   -3.790\n",
              "1143   -2.581\n",
              "Name: measured log(solubility:mol/L), Length: 1144, dtype: float64"
            ]
          },
          "metadata": {},
          "execution_count": 8
        }
      ]
    },
    {
      "cell_type": "code",
      "source": [
        "X_train, X_test, y_train, y_test = train_test_split(X, y, test_size=0.20, random_state=45)"
      ],
      "metadata": {
        "id": "VqHpelE9fjkC"
      },
      "execution_count": 9,
      "outputs": []
    },
    {
      "cell_type": "code",
      "source": [
        "rf = RandomForestRegressor(bootstrap= True,\n",
        " max_depth= 45,\n",
        " max_features= 'log2',\n",
        " min_samples_leaf= 2,\n",
        " min_samples_split= 5,\n",
        " n_estimators= 800,\n",
        "random_state=0)\n",
        "rf.fit(X_train, y_train)\n",
        "print(f'The r2 score for train set is : {rf.score(X_train, y_train)}')\n",
        "print(f'The r2 score for test set is : {rf.score(X_test, y_test)}')"
      ],
      "metadata": {
        "colab": {
          "base_uri": "https://localhost:8080/"
        },
        "id": "e6UY8zznfsXA",
        "outputId": "72dc46bb-9ccf-4acc-b618-e41e03707933"
      },
      "execution_count": 15,
      "outputs": [
        {
          "output_type": "stream",
          "name": "stdout",
          "text": [
            "The r2 score for train set is : 0.9664117294739257\n",
            "The r2 score for test set is : 0.8638248299806615\n"
          ]
        }
      ]
    },
    {
      "cell_type": "code",
      "source": [
        "import pickle\n",
        "with open('scaler.pkl','wb') as f:\n",
        "    pickle.dump(scaler, f)\n",
        "with open('model_rf', 'wb') as f:\n",
        "    pickle.dump(rf, f)"
      ],
      "metadata": {
        "id": "htcgdglEszsa"
      },
      "execution_count": 23,
      "outputs": []
    },
    {
      "cell_type": "markdown",
      "source": [
        "## **Predict Solubility from SMILES**"
      ],
      "metadata": {
        "id": "3QxGhR2Df9Kk"
      }
    },
    {
      "cell_type": "code",
      "source": [
        "X.columns"
      ],
      "metadata": {
        "colab": {
          "base_uri": "https://localhost:8080/"
        },
        "id": "BHvBJcHIloc7",
        "outputId": "5189121b-27d8-4cea-af9e-e3e285e10a57"
      },
      "execution_count": 16,
      "outputs": [
        {
          "output_type": "execute_result",
          "data": {
            "text/plain": [
              "Index(['FilterItLogS', 'Lipinski', 'SIC0', 'RNCG', 'RPCG', 'ATS0Z',\n",
              "       'PEOE_VSA6', 'AATS0i'],\n",
              "      dtype='object')"
            ]
          },
          "metadata": {},
          "execution_count": 16
        }
      ]
    },
    {
      "cell_type": "markdown",
      "source": [
        "**Prediction for a single SMILES**"
      ],
      "metadata": {
        "id": "I7O1uFv8yvuc"
      }
    },
    {
      "cell_type": "code",
      "source": [
        "def predict_sol(smile):\n",
        "  mol = Chem.MolFromSmiles(smile)\n",
        "  mol = Chem.AddHs(mol)\n",
        "  AllChem.EmbedMolecule(mol)\n",
        "\n",
        "  df_mol = pd.DataFrame(data = [mol], columns=(['mol']), dtype='object')\n",
        "  calc = Calculator(descriptors, ignore_3D=False)\n",
        "  desc = calc.pandas(df_mol['mol'])\n",
        "  desc_8 = desc[['FilterItLogS', 'Lipinski', 'SIC0', 'RNCG', 'RPCG', 'ATS0Z',\n",
        "        'PEOE_VSA6', 'AATS0i']]\n",
        "  X_test = scaler.transform(desc_8)\n",
        "  predict = rf.predict(X_test)\n",
        "  print(f'The Predicted Solubility is {predict[0]}')\n",
        "\n"
      ],
      "metadata": {
        "id": "2xGS5-2hgN5p"
      },
      "execution_count": 17,
      "outputs": []
    },
    {
      "cell_type": "code",
      "source": [
        "predict_sol('OCC1=C(O)C=C(O)C=C1')"
      ],
      "metadata": {
        "colab": {
          "base_uri": "https://localhost:8080/"
        },
        "id": "UMD7hspv3pO-",
        "outputId": "281c82f2-d71d-49ad-bc9d-3e520dab14ea"
      },
      "execution_count": 18,
      "outputs": [
        {
          "output_type": "stream",
          "name": "stderr",
          "text": [
            "100%|██████████| 1/1 [00:00<00:00,  3.23it/s]"
          ]
        },
        {
          "output_type": "stream",
          "name": "stdout",
          "text": [
            "The Predicted Solubility is -1.2217895199765518\n"
          ]
        },
        {
          "output_type": "stream",
          "name": "stderr",
          "text": [
            "\n"
          ]
        }
      ]
    },
    {
      "cell_type": "markdown",
      "source": [
        "**Predictions for a list of SMILES**"
      ],
      "metadata": {
        "id": "Vt5otI2Qy417"
      }
    },
    {
      "cell_type": "code",
      "source": [
        "def predict_sol_smiles(smiles):\n",
        "  mols = []\n",
        "  for smile in smiles:\n",
        "    mol = Chem.MolFromSmiles(smile)\n",
        "    mol = Chem.AddHs(mol)\n",
        "    AllChem.EmbedMolecule(mol)\n",
        "    mols.append(mol)\n",
        "  df_mol = pd.DataFrame(data = mols, columns=(['mol']), dtype='object')\n",
        "  calc = Calculator(descriptors, ignore_3D=False)\n",
        "  desc = calc.pandas(df_mol['mol'])\n",
        "  desc_8 = desc[['FilterItLogS', 'Lipinski', 'SIC0', 'RNCG', 'RPCG', 'ATS0Z',\n",
        "        'PEOE_VSA6', 'AATS0i']]\n",
        "  X_test = scaler.transform(desc_8)\n",
        "  predict = rf.predict(X_test)\n",
        "  print(f'The Predicted Solubilities is {predict}')\n"
      ],
      "metadata": {
        "id": "rte_5F7mo2aF"
      },
      "execution_count": 21,
      "outputs": []
    },
    {
      "cell_type": "code",
      "source": [
        "smiles = ['OCC1=C(O)C=C(O)C=C1', 'NCC1=C(N)C=C(N)C=C1', 'CCC1=C(C)C=C(C)C=C1']\n",
        "predict_sol_smiles(smiles)"
      ],
      "metadata": {
        "colab": {
          "base_uri": "https://localhost:8080/"
        },
        "id": "8LDW7Ad54tyw",
        "outputId": "8fb415bc-cb37-4418-ce34-9c254d919239"
      },
      "execution_count": 22,
      "outputs": [
        {
          "output_type": "stream",
          "name": "stderr",
          "text": [
            "100%|██████████| 3/3 [00:00<00:00,  4.23it/s]"
          ]
        },
        {
          "output_type": "stream",
          "name": "stdout",
          "text": [
            "The Predicted Solubilities is [-1.22178952 -1.56682183 -4.09530883]\n"
          ]
        },
        {
          "output_type": "stream",
          "name": "stderr",
          "text": [
            "\n"
          ]
        }
      ]
    }
  ]
}