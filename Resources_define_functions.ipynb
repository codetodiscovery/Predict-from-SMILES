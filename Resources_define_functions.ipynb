{
  "nbformat": 4,
  "nbformat_minor": 0,
  "metadata": {
    "colab": {
      "provenance": []
    },
    "kernelspec": {
      "name": "python3",
      "display_name": "Python 3"
    },
    "language_info": {
      "name": "python"
    }
  },
  "cells": [
    {
      "cell_type": "markdown",
      "source": [
        "Link to the video : https://youtu.be/646Tblf1Qx4"
      ],
      "metadata": {
        "id": "fK3tv0ZbstRP"
      }
    },
    {
      "cell_type": "code",
      "source": [
        "%%capture\n",
        "!pip install mordred\n",
        "!pip install rdkit"
      ],
      "metadata": {
        "id": "lEghOsYLwVM8"
      },
      "execution_count": null,
      "outputs": []
    },
    {
      "cell_type": "code",
      "source": [
        "# Importing Libraries\n",
        "import rdkit\n",
        "from rdkit import Chem\n",
        "from rdkit.Chem import Draw, PandasTools, AllChem\n",
        "\n",
        "import mordred\n",
        "from mordred import Calculator, descriptors"
      ],
      "metadata": {
        "id": "TMBAVZzmwO9d"
      },
      "execution_count": null,
      "outputs": []
    },
    {
      "cell_type": "code",
      "source": [
        "import pickle\n",
        "import pandas as pd\n",
        "import warnings\n",
        "warnings.filterwarnings(\"ignore\")"
      ],
      "metadata": {
        "id": "I6NkRIpkwSz8"
      },
      "execution_count": null,
      "outputs": []
    },
    {
      "cell_type": "code",
      "source": [
        "!pip install session-info"
      ],
      "metadata": {
        "colab": {
          "base_uri": "https://localhost:8080/"
        },
        "id": "-zvRA8AYowcn",
        "outputId": "8b78f0d4-1b72-4852-e08a-b1a6d51af113"
      },
      "execution_count": null,
      "outputs": [
        {
          "output_type": "stream",
          "name": "stdout",
          "text": [
            "Requirement already satisfied: session-info in /usr/local/lib/python3.10/dist-packages (1.0.0)\n",
            "Requirement already satisfied: stdlib-list in /usr/local/lib/python3.10/dist-packages (from session-info) (0.10.0)\n"
          ]
        }
      ]
    },
    {
      "cell_type": "code",
      "source": [
        "import session_info\n",
        "session_info.show()"
      ],
      "metadata": {
        "colab": {
          "base_uri": "https://localhost:8080/",
          "height": 329
        },
        "id": "jgRmrYjIo2Re",
        "outputId": "db83de10-08a8-4b15-97db-c54458359fbe"
      },
      "execution_count": null,
      "outputs": [
        {
          "output_type": "execute_result",
          "data": {
            "text/plain": [
              "<IPython.core.display.HTML object>"
            ],
            "text/html": [
              "<details>\n",
              "<summary>Click to view session information</summary>\n",
              "<pre>\n",
              "-----\n",
              "mordred             1.2.0\n",
              "pandas              1.5.3\n",
              "rdkit               2023.09.5\n",
              "session_info        1.0.0\n",
              "-----\n",
              "</pre>\n",
              "<details>\n",
              "<summary>Click to view modules imported as dependencies</summary>\n",
              "<pre>\n",
              "PIL                 9.4.0\n",
              "backcall            0.2.0\n",
              "certifi             2024.02.02\n",
              "cffi                1.16.0\n",
              "cloudpickle         2.2.1\n",
              "cycler              0.12.1\n",
              "cython_runtime      NA\n",
              "dateutil            2.8.2\n",
              "debugpy             1.6.6\n",
              "decorator           4.4.2\n",
              "defusedxml          0.7.1\n",
              "google              NA\n",
              "httplib2            0.22.0\n",
              "ipykernel           5.5.6\n",
              "ipython_genutils    0.2.0\n",
              "kiwisolver          1.4.5\n",
              "matplotlib          3.7.1\n",
              "matplotlib_inline   0.1.6\n",
              "mpl_toolkits        NA\n",
              "networkx            2.8.8\n",
              "numexpr             2.9.0\n",
              "numpy               1.25.2\n",
              "packaging           24.0\n",
              "pexpect             4.9.0\n",
              "pickleshare         0.7.5\n",
              "pkg_resources       NA\n",
              "platformdirs        4.2.0\n",
              "portpicker          NA\n",
              "prompt_toolkit      3.0.43\n",
              "psutil              5.9.5\n",
              "ptyprocess          0.7.0\n",
              "pyarrow             14.0.2\n",
              "pydev_ipython       NA\n",
              "pydevconsole        NA\n",
              "pydevd              2.9.5\n",
              "pydevd_file_utils   NA\n",
              "pydevd_plugins      NA\n",
              "pydevd_tracing      NA\n",
              "pygments            2.16.1\n",
              "pyparsing           3.1.2\n",
              "pytz                2023.4\n",
              "setuptools          67.7.2\n",
              "sitecustomize       NA\n",
              "six                 1.16.0\n",
              "socks               1.7.1\n",
              "sphinxcontrib       NA\n",
              "storemagic          NA\n",
              "tornado             6.3.3\n",
              "tqdm                4.66.2\n",
              "traitlets           5.7.1\n",
              "typing_extensions   NA\n",
              "wcwidth             0.2.13\n",
              "zmq                 23.2.1\n",
              "zoneinfo            NA\n",
              "</pre>\n",
              "</details> <!-- seems like this ends pre, so might as well be explicit -->\n",
              "<pre>\n",
              "-----\n",
              "IPython             7.34.0\n",
              "jupyter_client      6.1.12\n",
              "jupyter_core        5.7.2\n",
              "notebook            6.5.5\n",
              "-----\n",
              "Python 3.10.12 (main, Nov 20 2023, 15:14:05) [GCC 11.4.0]\n",
              "Linux-6.1.58+-x86_64-with-glibc2.35\n",
              "-----\n",
              "Session information updated at 2024-03-30 08:55\n",
              "</pre>\n",
              "</details>"
            ]
          },
          "metadata": {},
          "execution_count": 5
        }
      ]
    },
    {
      "cell_type": "code",
      "source": [
        "with open('scaler.pkl','rb') as f:\n",
        "    scaler = pickle.load(f)\n",
        "with open('model_rf', 'rb') as f:\n",
        "    rf = pickle.load(f)\n"
      ],
      "metadata": {
        "id": "BmB-POX3uxLz"
      },
      "execution_count": null,
      "outputs": []
    },
    {
      "cell_type": "markdown",
      "source": [
        "# **Predict for a single SMILES string**"
      ],
      "metadata": {
        "id": "KboiTBuOtLpR"
      }
    },
    {
      "cell_type": "code",
      "source": [
        "def predict_smiles(smiles):\n",
        "  mol = Chem.MolFromSmiles(smiles)\n",
        "  mol = Chem.AddHs(mol)\n",
        "  AllChem.EmbedMolecule(mol)\n",
        "\n",
        "  df_mol = pd.DataFrame(data = [mol], columns=(['mol']), dtype='object')\n",
        "  calc = Calculator(descriptors, ignore_3D=False)\n",
        "  desc = calc.pandas(df_mol['mol'])\n",
        "  desc_8 = desc[['FilterItLogS', 'Lipinski', 'SIC0', 'RNCG', 'RPCG', 'ATS0Z',\n",
        "        'PEOE_VSA6', 'AATS0i']]\n",
        "  X_test = scaler.transform(desc_8)\n",
        "  predict = rf.predict(X_test)\n",
        "  return predict[0]"
      ],
      "metadata": {
        "id": "CuHy2rSNtfG7"
      },
      "execution_count": null,
      "outputs": []
    },
    {
      "cell_type": "code",
      "source": [
        "predict_smiles('OC1=CC=C(O)C2=C(O)C=CC(O)=C21')"
      ],
      "metadata": {
        "colab": {
          "base_uri": "https://localhost:8080/"
        },
        "id": "iOl3pboCuMib",
        "outputId": "f90169ba-783e-449f-bb3a-44c99921b7ce"
      },
      "execution_count": null,
      "outputs": [
        {
          "output_type": "stream",
          "name": "stderr",
          "text": [
            "100%|██████████| 1/1 [00:00<00:00,  4.35it/s]\n"
          ]
        },
        {
          "output_type": "execute_result",
          "data": {
            "text/plain": [
              "-1.7495018777507203"
            ]
          },
          "metadata": {},
          "execution_count": 8
        }
      ]
    },
    {
      "cell_type": "markdown",
      "source": [
        "# **Predict from a csv file containing list of SMILES strings**"
      ],
      "metadata": {
        "id": "Y882-6ERtf4a"
      }
    },
    {
      "cell_type": "code",
      "source": [
        "\n",
        "def predict_csv(csv):\n",
        "    df = pd.DataFrame(csv)\n",
        "    result = []\n",
        "    for j in range(len(df)):\n",
        "        smiles = df.iloc[j, 0]\n",
        "        prediction = predict_smiles(smiles)\n",
        "        result.append(prediction)\n",
        "    df[1]=result\n",
        "    print(df)\n",
        "    return df"
      ],
      "metadata": {
        "id": "GroAQrujtpvC"
      },
      "execution_count": null,
      "outputs": []
    },
    {
      "cell_type": "code",
      "source": [
        "def predict_file(file):\n",
        "  csv = pd.read_csv(file, header=None)\n",
        "  prediction = predict_csv(csv)"
      ],
      "metadata": {
        "id": "gcI46Rbyv_zu"
      },
      "execution_count": null,
      "outputs": []
    },
    {
      "cell_type": "code",
      "source": [
        "predict_file('pred.csv')"
      ],
      "metadata": {
        "id": "Q0E4N4LSuVIK",
        "colab": {
          "base_uri": "https://localhost:8080/"
        },
        "outputId": "d0828ee9-1bc1-4273-f9d3-38312f5df4f2"
      },
      "execution_count": null,
      "outputs": [
        {
          "output_type": "stream",
          "name": "stderr",
          "text": [
            "100%|██████████| 1/1 [00:00<00:00,  6.07it/s]\n",
            "100%|██████████| 1/1 [00:00<00:00,  5.74it/s]\n"
          ]
        },
        {
          "output_type": "stream",
          "name": "stdout",
          "text": [
            "                       0         1\n",
            "0  NC1=CC(CO)=C(C#N)C=C1 -1.599943\n",
            "1    NC1=CC(CO)=C(O)C=C1 -1.082530\n"
          ]
        }
      ]
    },
    {
      "cell_type": "markdown",
      "source": [
        "# **Predict from list of SMILES strings**"
      ],
      "metadata": {
        "id": "i3Gt2RKftts3"
      }
    },
    {
      "cell_type": "code",
      "source": [
        "def predict_sol_smiles(smiles):\n",
        "  mols = []\n",
        "  for smile in smiles:\n",
        "    mol = Chem.MolFromSmiles(smile)\n",
        "    mol = Chem.AddHs(mol)\n",
        "    AllChem.EmbedMolecule(mol)\n",
        "    mols.append(mol)\n",
        "  df_mol = pd.DataFrame(data = mols, columns=(['mol']), dtype='object')\n",
        "  calc = Calculator(descriptors, ignore_3D=True)\n",
        "  desc = calc.pandas(df_mol['mol'])\n",
        "  desc_8 = desc[['FilterItLogS', 'Lipinski', 'SIC0', 'RNCG', 'RPCG', 'ATS0Z',\n",
        "        'PEOE_VSA6', 'AATS0i']]\n",
        "  X_test = scaler.transform(desc_8)\n",
        "  predict = rf.predict(X_test)\n",
        "  print(f'The Predicted Solubilities is {predict}')"
      ],
      "metadata": {
        "id": "rwSZnj8tvPrN"
      },
      "execution_count": null,
      "outputs": []
    },
    {
      "cell_type": "code",
      "source": [
        "smiles = ['OCC1=C(O)C=C(O)C=C1', 'NCC1=C(N)C=C(N)C=C1', 'CCC1=C(C)C=C(C)C=C1']\n",
        "predict_sol_smiles(smiles)"
      ],
      "metadata": {
        "id": "AUnLKptQxUde"
      },
      "execution_count": null,
      "outputs": []
    }
  ]
}